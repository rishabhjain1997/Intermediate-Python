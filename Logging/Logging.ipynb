{
 "cells": [
  {
   "cell_type": "markdown",
   "metadata": {},
   "source": [
    "## Logging"
   ]
  },
  {
   "cell_type": "code",
   "execution_count": 52,
   "metadata": {},
   "outputs": [],
   "source": [
    "from importlib import reload\n",
    "import logging\n",
    "reload(logging)\n",
    "logging.basicConfig(level=logging.DEBUG, format = '%(asctime)s - %(name)s - %(levelname)s - %(message)s', datefmt = '%d/%m/%Y %H:%M:%S')\n"
   ]
  },
  {
   "cell_type": "code",
   "execution_count": 53,
   "metadata": {},
   "outputs": [
    {
     "name": "stderr",
     "output_type": "stream",
     "text": [
      "26/12/2020 11:54:28 - root - DEBUG - This is a debug message\n",
      "26/12/2020 11:54:28 - root - INFO - This is an info message\n",
      "26/12/2020 11:54:28 - root - WARNING - This is a warning message\n",
      "26/12/2020 11:54:28 - root - ERROR - This is an error message\n",
      "26/12/2020 11:54:28 - root - CRITICAL - This is a critical message\n"
     ]
    }
   ],
   "source": [
    "logging.debug('This is a debug message')\n",
    "logging.info('This is an info message')\n",
    "logging.warning('This is a warning message')\n",
    "logging.error('This is an error message')\n",
    "logging.critical('This is a critical message')"
   ]
  },
  {
   "cell_type": "code",
   "execution_count": 62,
   "metadata": {},
   "outputs": [],
   "source": [
    "#Create your own logger by creating another logger module such as helper.py\n",
    "import import_ipynb\n",
    "import helper"
   ]
  },
  {
   "cell_type": "code",
   "execution_count": 64,
   "metadata": {},
   "outputs": [
    {
     "name": "stderr",
     "output_type": "stream",
     "text": [
      "__main__ - WARNING - this is a warning\n",
      "26/12/2020 12:44:40 - __main__ - WARNING - this is a warning\n",
      "__main__ - ERROR - this is an error\n",
      "26/12/2020 12:44:40 - __main__ - ERROR - this is an error\n"
     ]
    }
   ],
   "source": [
    "#using handlers\n",
    "\n",
    "import logging\n",
    "logger = logging.getLogger(__name__)\n",
    "\n",
    "# create handler\n",
    "stream_h = stream_handler = logging.StreamHandler()\n",
    "file_h = logging.FileHandler('file.log')\n",
    "\n",
    "# level and format for the handler\n",
    "stream_h.setLevel(logging.WARNING)\n",
    "file_h.setLevel(logging.ERROR)\n",
    "\n",
    "formatter = logging.Formatter('%(name)s - %(levelname)s - %(message)s')\n",
    "stream_h.setFormatter(formatter)\n",
    "file_h.setFormatter(formatter)\n",
    "\n",
    "logger.addHandler(stream_h)\n",
    "logger.addHandler(file_h)\n",
    "\n",
    "logger.warning('this is a warning')\n",
    "logger.error('this is an error')\n",
    "#check out the file - file.log"
   ]
  },
  {
   "cell_type": "code",
   "execution_count": 73,
   "metadata": {},
   "outputs": [
    {
     "name": "stdout",
     "output_type": "stream",
     "text": [
      "this is a debug message\n",
      "this is a debug message\n"
     ]
    }
   ],
   "source": [
    "import logging\n",
    "import logging.config\n",
    "reload(logging)\n",
    "logging.config.fileConfig('logging.conf')\n",
    "logger = logging.getLogger('simpleExample')\n",
    "logger.debug('this is a debug message')"
   ]
  },
  {
   "cell_type": "code",
   "execution_count": 75,
   "metadata": {},
   "outputs": [
    {
     "name": "stdout",
     "output_type": "stream",
     "text": [
      "list index out of range\n",
      "Traceback (most recent call last):\n",
      "  File \"<ipython-input-75-eff073c3e943>\", line 4, in <module>\n",
      "    val = a[4]\n",
      "IndexError: list index out of range\n"
     ]
    }
   ],
   "source": [
    "import logging\n",
    "try:\n",
    "    a = [1,2,3]\n",
    "    val = a[4]\n",
    "except IndexError as e:\n",
    "    logging.error(e, exc_info = True)"
   ]
  },
  {
   "cell_type": "code",
   "execution_count": 76,
   "metadata": {},
   "outputs": [
    {
     "name": "stdout",
     "output_type": "stream",
     "text": [
      "The error is Traceback (most recent call last):\n",
      "  File \"<ipython-input-76-77e3870f40fe>\", line 6, in <module>\n",
      "    val = a[4]\n",
      "IndexError: list index out of range\n",
      "\n"
     ]
    }
   ],
   "source": [
    "import logging\n",
    "import traceback\n",
    "\n",
    "try:\n",
    "    a = [1,2,3]\n",
    "    val = a[4]\n",
    "except:\n",
    "    logging.error(\"The error is %s\", traceback.format_exc())"
   ]
  },
  {
   "cell_type": "code",
   "execution_count": 78,
   "metadata": {},
   "outputs": [],
   "source": [
    "import logging\n",
    "from logging.handlers import RotatingFileHandler\n",
    "reload(logging)\n",
    "logger = logging.getLogger(__name__)\n",
    "logger.setLevel(logging.INFO)\n",
    "\n",
    "# roll ober after 2KB and keep backup logs app.log.1, app.log.2 etc.\n",
    "handler = RotatingFileHandler('app.log', maxBytes = 2000, backupCount = 5)\n",
    "logger.addHandler(handler)\n",
    "\n",
    "for _ in range(10000):\n",
    "    logger.info(\"Hello, world!\")"
   ]
  },
  {
   "cell_type": "code",
   "execution_count": 81,
   "metadata": {},
   "outputs": [
    {
     "ename": "NameError",
     "evalue": "name 'time' is not defined",
     "output_type": "error",
     "traceback": [
      "\u001b[0;31m---------------------------------------------------------------------------\u001b[0m",
      "\u001b[0;31mNameError\u001b[0m                                 Traceback (most recent call last)",
      "\u001b[0;32m<ipython-input-81-d03eda057356>\u001b[0m in \u001b[0;36m<module>\u001b[0;34m\u001b[0m\n\u001b[1;32m     11\u001b[0m \u001b[0;32mfor\u001b[0m \u001b[0m_\u001b[0m \u001b[0;32min\u001b[0m \u001b[0mrange\u001b[0m\u001b[0;34m(\u001b[0m\u001b[0;36m6\u001b[0m\u001b[0;34m)\u001b[0m\u001b[0;34m:\u001b[0m\u001b[0;34m\u001b[0m\u001b[0;34m\u001b[0m\u001b[0m\n\u001b[1;32m     12\u001b[0m     \u001b[0mlogger\u001b[0m\u001b[0;34m.\u001b[0m\u001b[0minfo\u001b[0m\u001b[0;34m(\u001b[0m\u001b[0;34m\"Hello, world!\"\u001b[0m\u001b[0;34m)\u001b[0m\u001b[0;34m\u001b[0m\u001b[0;34m\u001b[0m\u001b[0m\n\u001b[0;32m---> 13\u001b[0;31m     \u001b[0mtime\u001b[0m\u001b[0;34m.\u001b[0m\u001b[0msleep\u001b[0m\u001b[0;34m(\u001b[0m\u001b[0;36m5\u001b[0m\u001b[0;34m)\u001b[0m\u001b[0;34m\u001b[0m\u001b[0;34m\u001b[0m\u001b[0m\n\u001b[0m",
      "\u001b[0;31mNameError\u001b[0m: name 'time' is not defined"
     ]
    }
   ],
   "source": [
    "import logging\n",
    "from logging.handlers import TimedRotatingFileHandler\n",
    "reload(logging)\n",
    "logger = logging.getLogger(__name__)\n",
    "logger.setLevel(logging.INFO)\n",
    "\n",
    "# s, m, d, midnight, w0\n",
    "handler = TimedRotatingFileHandler('timed_test.log', when='s', interval=5,backupCount = 5)\n",
    "logger.addHandler(handler)\n",
    "\n",
    "for _ in range(6):\n",
    "    logger.info(\"Hello, world!\")\n",
    "    time.sleep(5)"
   ]
  },
  {
   "cell_type": "code",
   "execution_count": null,
   "metadata": {},
   "outputs": [],
   "source": []
  }
 ],
 "metadata": {
  "kernelspec": {
   "display_name": "Python 3",
   "language": "python",
   "name": "python3"
  },
  "language_info": {
   "codemirror_mode": {
    "name": "ipython",
    "version": 3
   },
   "file_extension": ".py",
   "mimetype": "text/x-python",
   "name": "python",
   "nbconvert_exporter": "python",
   "pygments_lexer": "ipython3",
   "version": "3.8.5"
  }
 },
 "nbformat": 4,
 "nbformat_minor": 4
}
